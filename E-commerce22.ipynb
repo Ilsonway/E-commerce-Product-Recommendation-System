{
 "cells": [
  {
   "cell_type": "code",
   "execution_count": 11,
   "id": "7606f0e7-8743-4851-a450-4c8c8872cc0a",
   "metadata": {},
   "outputs": [],
   "source": [
    "import pandas as pd\n",
    "import zipfile\n",
    "import urllib.request\n",
    "from sklearn.decomposition import TruncatedSVD\n",
    "import numpy as np\n",
    "\n",
    "# Download the dataset\n",
    "url = 'http://files.grouplens.org/datasets/movielens/ml-100k.zip'\n",
    "output_file = 'ml-100k.zip'\n",
    "urllib.request.urlretrieve(url, output_file)\n",
    "\n",
    "# Extract the dataset\n",
    "with zipfile.ZipFile(output_file, 'r') as zip_ref:\n",
    "    zip_ref.extractall('ml-100k')\n"
   ]
  },
  {
   "cell_type": "code",
   "execution_count": 12,
   "id": "5d997bb3-787c-4b91-b04a-1f12290ef24e",
   "metadata": {},
   "outputs": [
    {
     "name": "stdout",
     "output_type": "stream",
     "text": [
      "   UserId  ItemId  Rating  Timestamp\n",
      "0     196     242       3  881250949\n",
      "1     186     302       3  891717742\n",
      "2      22     377       1  878887116\n",
      "3     244      51       2  880606923\n",
      "4     166     346       1  886397596\n",
      "   ItemId              Title\n",
      "0       1   Toy Story (1995)\n",
      "1       2   GoldenEye (1995)\n",
      "2       3  Four Rooms (1995)\n",
      "3       4  Get Shorty (1995)\n",
      "4       5     Copycat (1995)\n"
     ]
    }
   ],
   "source": [
    "#panda dataframe\n",
    "u_data_path = 'ml-100k/ml-100k/u.data'\n",
    "u_item_path = 'ml-100k/ml-100k/u.item'\n",
    "\n",
    "#naming\n",
    "data_columns = ['UserId', 'ItemId', 'Rating', 'Timestamp']\n",
    "item_columns = ['ItemId', 'Title'] + [f'col{i}' for i in range(22)]  # 24 columns in total\n",
    "\n",
    "# Load data\n",
    "ratings = pd.read_csv(u_data_path, sep='\\t', names=data_columns)\n",
    "items = pd.read_csv(u_item_path, sep='|', names=item_columns, encoding='latin-1')\n",
    "items = items[['ItemId', 'Title']]\n",
    "print(ratings.head())\n",
    "print(items.head())\n"
   ]
  },
  {
   "cell_type": "code",
   "execution_count": 13,
   "id": "926f049f-e418-435f-b9cf-03d51d896b41",
   "metadata": {},
   "outputs": [
    {
     "name": "stdout",
     "output_type": "stream",
     "text": [
      "Number of unique Users: 943\n",
      "Number of unique Items: 1682\n"
     ]
    }
   ],
   "source": [
    "\n",
    "# Keep only necessary columns from items\n",
    "items = items[['ItemId', 'Title']]\n",
    "\n",
    "# Filter users and items to create a manageable dataset\n",
    "unique_users = ratings['UserId'].unique()\n",
    "unique_items = ratings['ItemId'].unique()\n",
    "\n",
    "print(f'Number of unique Users: {len(unique_users)}')\n",
    "print(f'Number of unique Items: {len(unique_items)}')\n",
    "\n"
   ]
  },
  {
   "cell_type": "code",
   "execution_count": 14,
   "id": "6472f686-5086-4594-a7f1-a03ec1a05496",
   "metadata": {},
   "outputs": [
    {
     "name": "stdout",
     "output_type": "stream",
     "text": [
      "Filtered number of unique Users: 568\n",
      "Filtered number of unique Items: 603\n",
      "Utility matrix shape: (568, 603)\n"
     ]
    }
   ],
   "source": [
    "# Filter users and items to ensure they have a minimum number of ratings\n",
    "min_user_ratings = 50\n",
    "min_item_ratings = 50\n",
    "\n",
    "filtered_users = ratings['UserId'].value_counts()[ratings['UserId'].value_counts() >= min_user_ratings].index\n",
    "filtered_items = ratings['ItemId'].value_counts()[ratings['ItemId'].value_counts() >= min_item_ratings].index\n",
    "\n",
    "filtered_ratings = ratings[ratings['UserId'].isin(filtered_users) & ratings['ItemId'].isin(filtered_items)]\n",
    "\n",
    "print(f'Filtered number of unique Users: {filtered_users.shape[0]}')\n",
    "print(f'Filtered number of unique Items: {filtered_items.shape[0]}')\n",
    "\n",
    "# Create the utility matrix\n",
    "utility_matrix = filtered_ratings.pivot_table(values='Rating', index='UserId', columns='ItemId', fill_value=0)\n",
    "print(f'Utility matrix shape: {utility_matrix.shape}')"
   ]
  },
  {
   "cell_type": "code",
   "execution_count": 15,
   "id": "26ff273e-c494-409f-862d-da4d58584978",
   "metadata": {},
   "outputs": [],
   "source": [
    "# Apply SVD\n",
    "svd = TruncatedSVD(n_components=20)\n",
    "latent_matrix = svd.fit_transform(utility_matrix)\n",
    "\n",
    "# Function for  recommendations\n",
    "def get_recommendations(item_id, latent_matrix, item_names, num_recommendations=5):\n",
    "    item_index = utility_matrix.columns.get_loc(item_id)\n",
    "    item_latent_vector = svd.components_[:, item_index]\n",
    "    \n",
    "    # Calculate similarities with other items\n",
    "    similarities = np.dot(svd.components_.T, item_latent_vector)\n",
    "    \n",
    "    # Get top N recommendations\n",
    "    similar_indices = np.argsort(similarities)[-num_recommendations-1:-1][::-1]\n",
    "    similar_items = [utility_matrix.columns[i] for i in similar_indices]\n",
    "    \n",
    "    # Get item names\n",
    "    similar_item_names = item_names[item_names['ItemId'].isin(similar_items)]['Title']\n",
    "    return similar_item_names"
   ]
  },
  {
   "cell_type": "code",
   "execution_count": 16,
   "id": "f26ca9c8-5517-4d54-a852-c04671b4e7ba",
   "metadata": {},
   "outputs": [
    {
     "name": "stdout",
     "output_type": "stream",
     "text": [
      "Recommended Items for Star Wars (1977):\n",
      "0                     Toy Story (1995)\n",
      "126              Godfather, The (1972)\n",
      "171    Empire Strikes Back, The (1980)\n",
      "173     Raiders of the Lost Ark (1981)\n",
      "180          Return of the Jedi (1983)\n",
      "Name: Title, dtype: object\n"
     ]
    }
   ],
   "source": [
    "# Test1\n",
    "sample_item_id = filtered_items[0]\n",
    "recommendations = get_recommendations(sample_item_id, latent_matrix, items)\n",
    "print(f'Recommended Items for {items[items[\"ItemId\"] == sample_item_id][\"Title\"].values[0]}:')\n",
    "print(recommendations)"
   ]
  },
  {
   "cell_type": "code",
   "execution_count": null,
   "id": "ae5b8d40-672d-4adf-b6f6-a18029815e84",
   "metadata": {},
   "outputs": [],
   "source": []
  }
 ],
 "metadata": {
  "kernelspec": {
   "display_name": "Python 3 (ipykernel)",
   "language": "python",
   "name": "python3"
  },
  "language_info": {
   "codemirror_mode": {
    "name": "ipython",
    "version": 3
   },
   "file_extension": ".py",
   "mimetype": "text/x-python",
   "name": "python",
   "nbconvert_exporter": "python",
   "pygments_lexer": "ipython3",
   "version": "3.12.4"
  }
 },
 "nbformat": 4,
 "nbformat_minor": 5
}
